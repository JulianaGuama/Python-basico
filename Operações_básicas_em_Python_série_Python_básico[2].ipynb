{
  "nbformat": 4,
  "nbformat_minor": 0,
  "metadata": {
    "colab": {
      "name": "Operações básicas em Python - série Python básico[2].ipynb",
      "version": "0.3.2",
      "provenance": [],
      "collapsed_sections": []
    },
    "kernelspec": {
      "name": "python3",
      "display_name": "Python 3"
    }
  },
  "cells": [
    {
      "metadata": {
        "id": "lE0ZumNbe_-k",
        "colab_type": "text"
      },
      "cell_type": "markdown",
      "source": [
        "Por: Juliana Guamá\n",
        "* [linkedin](https://www.linkedin.com/in/juliana-guama/)\n",
        "* [github](https://github.com/JulianaGuama)"
      ]
    },
    {
      "metadata": {
        "id": "mNTtzQY-fB3B",
        "colab_type": "text"
      },
      "cell_type": "markdown",
      "source": [
        "# Operações Básicas\n",
        "\n",
        "Neste trecho, vamos estudar soma, subtração, exponenciação, ..."
      ]
    },
    {
      "metadata": {
        "id": "z9iQEa3TfR5S",
        "colab_type": "text"
      },
      "cell_type": "markdown",
      "source": [
        "## Operadores aritméticos\n",
        "\n",
        "Vamos lá... imagine que você tem 2 maças e acrescenta mais 1... temos então?\n",
        "\n",
        "Opa! Não tão básico assim!!\n",
        "\n",
        "rsrs...\n",
        "\n"
      ]
    },
    {
      "metadata": {
        "id": "4tURDEHniOvF",
        "colab_type": "text"
      },
      "cell_type": "markdown",
      "source": [
        "| Operação      | Operador | exemplo   |\n",
        "|---------------|----------|-----------|\n",
        "| adição        | +        | a+b = 30  |\n",
        "| subtração     | -        | a-b = -10 |\n",
        "| multiplicação | *        | a*b = 200 |\n",
        "| divisão       | /        | a/b = 2   |\n",
        "| módulo        | %        |        a%b = 0   |\n",
        "\n"
      ]
    },
    {
      "metadata": {
        "id": "Kypheh39jYfI",
        "colab_type": "text"
      },
      "cell_type": "markdown",
      "source": [
        "Explicação: **módulo** representa o resto da divisão. Ou seja, quando dividimos o a pelo b, o resto da divisão é 0.\n",
        "\n",
        "Pergunta: QUAL VALOR a E b DEVEM ASSUMIR PARA QUE OS EXEMPLOS DÊEM ESSES VALORES?\n",
        "\n",
        "❤\n"
      ]
    },
    {
      "metadata": {
        "id": "9LOJLmIijXly",
        "colab_type": "code",
        "colab": {}
      },
      "cell_type": "code",
      "source": [
        "#Faça você mesmo as operações!\n",
        "#primeiro, defina um valor para as variáveis!\n",
        "\n",
        "a = \n",
        "b = "
      ],
      "execution_count": 0,
      "outputs": []
    },
    {
      "metadata": {
        "id": "LuCC5TlaegPD",
        "colab_type": "code",
        "colab": {}
      },
      "cell_type": "code",
      "source": [
        "#Agora vamos ver a resposta das operações:\n",
        "print(a + b)\n",
        "print(a - b)\n",
        "print(a*b)\n",
        "print(a/b)\n",
        "print(a%b)"
      ],
      "execution_count": 0,
      "outputs": []
    },
    {
      "metadata": {
        "id": "XrE5sEqWkFo7",
        "colab_type": "text"
      },
      "cell_type": "markdown",
      "source": [
        "Legal, não é?\n",
        "\n",
        "O que acontece quando fazemos o mesmo com **str**?"
      ]
    },
    {
      "metadata": {
        "id": "HN71Zk-dkNBF",
        "colab_type": "code",
        "colab": {
          "base_uri": "https://localhost:8080/",
          "height": 35
        },
        "outputId": "728c2174-4b6f-49ec-8069-eb46531c21ec"
      },
      "cell_type": "code",
      "source": [
        "a = 'Py-'\n",
        "b = 'Ladies'\n",
        "\n",
        "print(a + b)"
      ],
      "execution_count": 1,
      "outputs": [
        {
          "output_type": "stream",
          "text": [
            "Py-Ladies\n"
          ],
          "name": "stdout"
        }
      ]
    },
    {
      "metadata": {
        "id": "yc_r3Y31kXrS",
        "colab_type": "text"
      },
      "cell_type": "markdown",
      "source": [
        "SIm! Python \"soma\" as strings e transforma em uma só!"
      ]
    },
    {
      "metadata": {
        "id": "AakBvtNfkcxe",
        "colab_type": "code",
        "colab": {}
      },
      "cell_type": "code",
      "source": [
        "#Faça com outros tipos de variáveis!\n"
      ],
      "execution_count": 0,
      "outputs": []
    },
    {
      "metadata": {
        "id": "8cNvzPwokgsJ",
        "colab_type": "text"
      },
      "cell_type": "markdown",
      "source": [
        "## Operadores Relacionais\n",
        "\n",
        "> Imagine que Maria foi no mato. Genaro seu bem quer saber o que Maria foi fazer no mato. Qual o apelido de Maria?\n",
        "\n",
        "rsrsrs..."
      ]
    },
    {
      "metadata": {
        "id": "rgXt2ymPk1xJ",
        "colab_type": "text"
      },
      "cell_type": "markdown",
      "source": [
        "| Operação      | Operador | exemplo   |\n",
        "|---------------|----------|-----------|\n",
        "| igualdade           |  ==       | a == b |\n",
        "| desigualdade     |  !=        | a != b  |\n",
        "| maior que |  >       | a > b |\n",
        "| menor que | <       | a < b |\n",
        "| maior ou igual      | >=     |  a >= b |\n",
        "| menor ou igual     | <=     |  a <= b |"
      ]
    },
    {
      "metadata": {
        "id": "tKFp2DhhljKc",
        "colab_type": "code",
        "colab": {}
      },
      "cell_type": "code",
      "source": [
        "# vamos de novo -> defina valores de a e b\n",
        "a = \n",
        "b = \n",
        "\n",
        "print( a == b )\n",
        "print( a != b )\n",
        "print( a > b )\n",
        "print( a < b )\n",
        "print( a >= b)\n",
        "print( a <= b)"
      ],
      "execution_count": 0,
      "outputs": []
    },
    {
      "metadata": {
        "id": "XmT4Lnzkleci",
        "colab_type": "text"
      },
      "cell_type": "markdown",
      "source": [
        "## Operadores de Atribuição\n",
        "\n",
        "uh?\n",
        "\n",
        "Veja a tabela e se delicie:\n"
      ]
    },
    {
      "metadata": {
        "id": "9B68-s7QmWYv",
        "colab_type": "text"
      },
      "cell_type": "markdown",
      "source": [
        "| Operação      | Operador | exemplo   | explicação |\n",
        "|---------------|----------|-----------|-----------|\n",
        "| adição        | +=        | a += b  | a = a + b |\n",
        "| subtração     | -=       | a -= b | a = a - b|\n",
        "| multiplicação | *=        | a *= b | a = a*b|\n",
        "| divisão       | /=       | a/=b   | a = a/b|\n",
        "| módulo        | %=        |        a%=b | a = a%b|"
      ]
    },
    {
      "metadata": {
        "id": "fO1RNKhfmLwg",
        "colab_type": "code",
        "colab": {
          "base_uri": "https://localhost:8080/",
          "height": 35
        },
        "outputId": "dc4d18ac-a0a3-40e4-a764-2a82d4569be8"
      },
      "cell_type": "code",
      "source": [
        "a = 10\n",
        "a += a\n",
        "\n",
        "print(a)"
      ],
      "execution_count": 2,
      "outputs": [
        {
          "output_type": "stream",
          "text": [
            "20\n"
          ],
          "name": "stdout"
        }
      ]
    },
    {
      "metadata": {
        "id": "iu6vRI85m83q",
        "colab_type": "code",
        "colab": {}
      },
      "cell_type": "code",
      "source": [
        "# brinque com os outros operadores!\n"
      ],
      "execution_count": 0,
      "outputs": []
    },
    {
      "metadata": {
        "id": "OqFCvedfm7zC",
        "colab_type": "text"
      },
      "cell_type": "markdown",
      "source": [
        "## Operadores lógicos\n",
        "\n",
        "> Se eu tenho um chocolate, logo eu tenho meio chocolate, metade da metade... opa, cadê o chocolate?\n",
        "\n",
        "\n",
        "Veja a tabela e vamos brincar!"
      ]
    },
    {
      "metadata": {
        "id": "5o_u0xiUndwf",
        "colab_type": "text"
      },
      "cell_type": "markdown",
      "source": [
        "| Operação      | Operador | exemplo|\n",
        "|---------------|----------|-----------|\n",
        "| and         |  and      | a and b |\n",
        "| or    |  or       | a or b  |\n",
        "| not |  not       | a not b |"
      ]
    },
    {
      "metadata": {
        "id": "L3KjYg65oMXa",
        "colab_type": "text"
      },
      "cell_type": "markdown",
      "source": [
        "Tudo faz sentido nessa vida?\n",
        "\n",
        "Bom... Python é tão Python que facilitou a nossa vida até nos operadores. Você já conhece outras linguagens e resolveu codar em Python, pode encontrar operadores lógicos não escritos (apenas símbolos). Assim, a seguinte tabela também é válida para Python!"
      ]
    },
    {
      "metadata": {
        "id": "sfg_PWQTocj9",
        "colab_type": "text"
      },
      "cell_type": "markdown",
      "source": [
        "| Operação      | Operador | exemplo|\n",
        "|---------------|----------|-----------|\n",
        "| and         |  &      | a & b |\n",
        "| not |  !       | a ! b |\n",
        "\n",
        "E, para **or** use **|**."
      ]
    },
    {
      "metadata": {
        "id": "ARf5wOQGpDko",
        "colab_type": "code",
        "colab": {}
      },
      "cell_type": "code",
      "source": [
        "#Faça o teste!"
      ],
      "execution_count": 0,
      "outputs": []
    },
    {
      "metadata": {
        "id": "7enqoTv9pIut",
        "colab_type": "text"
      },
      "cell_type": "markdown",
      "source": [
        "## Operadores de Adesão\n",
        "\n",
        "> Já tem o cartão das lojas PyLadies?\n",
        "\n",
        "| Operação      | Operador | exemplo|\n",
        "|---------------|----------|-----------|\n",
        "| dentro         |  in      | a in b |\n",
        "\n"
      ]
    },
    {
      "metadata": {
        "id": "bknnOr9ApwC4",
        "colab_type": "text"
      },
      "cell_type": "markdown",
      "source": [
        "uh?\n",
        "\n",
        "Súper normal não entender o que significa. Então vamos aos exemplos para esse caso!\n",
        "\n"
      ]
    },
    {
      "metadata": {
        "id": "uum-cZA1p2NV",
        "colab_type": "code",
        "colab": {
          "base_uri": "https://localhost:8080/",
          "height": 35
        },
        "outputId": "413623c1-cbcc-4ad4-dfc3-598a69b88dcc"
      },
      "cell_type": "code",
      "source": [
        "a = 10\n",
        "b = [10, 20, 30, 40]\n",
        "\n",
        "print(a in b)"
      ],
      "execution_count": 4,
      "outputs": [
        {
          "output_type": "stream",
          "text": [
            "True\n"
          ],
          "name": "stdout"
        }
      ]
    },
    {
      "metadata": {
        "id": "sJpwJYY7qYff",
        "colab_type": "text"
      },
      "cell_type": "markdown",
      "source": [
        "Basicamente você está perguntando se o valor à esquerda está em algum lugar da variável **iterável** à direita.\n",
        "\n",
        "Observe que, se b for um **int** não faz sentido verificar *a in b* e sim *a == b* ou outras verificações.\n"
      ]
    },
    {
      "metadata": {
        "id": "io19IafWqrQb",
        "colab_type": "code",
        "colab": {}
      },
      "cell_type": "code",
      "source": [
        "#faça agora com outros tipos de variáveis\n"
      ],
      "execution_count": 0,
      "outputs": []
    },
    {
      "metadata": {
        "id": "jACW4tT-qvrn",
        "colab_type": "code",
        "colab": {}
      },
      "cell_type": "code",
      "source": [
        "#tente usar combinações de not e in (not in) para ver o resultado"
      ],
      "execution_count": 0,
      "outputs": []
    },
    {
      "metadata": {
        "id": "c72HcaGzq5ry",
        "colab_type": "text"
      },
      "cell_type": "markdown",
      "source": [
        "## Operadores de identidade\n",
        "\n",
        "> Nasci em Belém, cresci no DF, onde fiz minha identidade. _ ❤ _\n",
        "\n",
        "| Operação      | Operador | exemplo|\n",
        "|---------------|----------|-----------|\n",
        "| é         |  is      | a is b |\n",
        "\n"
      ]
    },
    {
      "metadata": {
        "id": "d0OCo_W0raMq",
        "colab_type": "text"
      },
      "cell_type": "markdown",
      "source": [
        "Esse operador verifica se a variável à esquerda é a mesma da variável à direita. Como assim?"
      ]
    },
    {
      "metadata": {
        "id": "RRd5K47ArX-S",
        "colab_type": "code",
        "colab": {
          "base_uri": "https://localhost:8080/",
          "height": 35
        },
        "outputId": "479b3bd5-9ec8-4f65-b3b5-9e4dbfcbc9a2"
      },
      "cell_type": "code",
      "source": [
        "a = 10\n",
        "b = a\n",
        "\n",
        "print(a is b)"
      ],
      "execution_count": 5,
      "outputs": [
        {
          "output_type": "stream",
          "text": [
            "True\n"
          ],
          "name": "stdout"
        }
      ]
    },
    {
      "metadata": {
        "id": "P59p5_Q0rkCq",
        "colab_type": "text"
      },
      "cell_type": "markdown",
      "source": [
        "Em outras palavras, o código acima verifica se id(a) == id(b). Não fica muito claro com variáveis imutáveis, vamos tentar outra."
      ]
    },
    {
      "metadata": {
        "id": "y3yFp0C1rtak",
        "colab_type": "code",
        "colab": {
          "base_uri": "https://localhost:8080/",
          "height": 89
        },
        "outputId": "f69d7a9d-4e46-4eb4-84cd-b6f72a7b734c"
      },
      "cell_type": "code",
      "source": [
        "a = [10]\n",
        "b = a\n",
        "\n",
        "print(a is b)\n",
        "\n",
        "b.append(20)\n",
        "print(b)\n",
        "\n",
        "\n",
        "print(a is b)\n",
        "print(a)"
      ],
      "execution_count": 7,
      "outputs": [
        {
          "output_type": "stream",
          "text": [
            "True\n",
            "[10, 20]\n",
            "True\n",
            "[10, 20]\n"
          ],
          "name": "stdout"
        }
      ]
    },
    {
      "metadata": {
        "id": "s503wYKhr4cl",
        "colab_type": "text"
      },
      "cell_type": "markdown",
      "source": [
        "Mais claro agora?\n"
      ]
    },
    {
      "metadata": {
        "id": "NRgo8_dFr5-L",
        "colab_type": "code",
        "colab": {}
      },
      "cell_type": "code",
      "source": [
        "#teste com outros tipos de variáveis"
      ],
      "execution_count": 0,
      "outputs": []
    },
    {
      "metadata": {
        "id": "OwCojOgws1S4",
        "colab_type": "code",
        "colab": {}
      },
      "cell_type": "code",
      "source": [
        "#experimente testar combinações de not e is (not is)"
      ],
      "execution_count": 0,
      "outputs": []
    }
  ]
}