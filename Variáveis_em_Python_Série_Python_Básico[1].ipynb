{
  "nbformat": 4,
  "nbformat_minor": 0,
  "metadata": {
    "colab": {
      "name": "Variáveis em Python - Série Python Básico[1].ipynb",
      "version": "0.3.2",
      "provenance": [],
      "collapsed_sections": [
        "yTd5uM-r_0Xf"
      ]
    },
    "kernelspec": {
      "name": "python3",
      "display_name": "Python 3"
    }
  },
  "cells": [
    {
      "metadata": {
        "id": "CWVuWdD4eshZ",
        "colab_type": "text"
      },
      "cell_type": "markdown",
      "source": [
        "Por: Juliana Guamá\n",
        "* [linkedin](https://www.linkedin.com/in/juliana-guama/)\n",
        "* [github](https://github.com/JulianaGuama)"
      ]
    },
    {
      "metadata": {
        "id": "yTd5uM-r_0Xf",
        "colab_type": "text"
      },
      "cell_type": "markdown",
      "source": [
        "# Variáveis em Python\n",
        "\n",
        "Vamos começar explorando os tipos de variáveis existentes na base de Python e a razão para o qual cada uma serve.\n",
        "\n",
        "Aqui cabe uma observação! Os tipos das variáveis não precisam ser explicitados em Python, isso a linguagem decide sozinha. Porém, os nomes das  variáveis é **reservado** e não pode ser usado para nomear variáveis."
      ]
    },
    {
      "metadata": {
        "id": "kyahg8-5AifH",
        "colab_type": "text"
      },
      "cell_type": "markdown",
      "source": [
        "## Existentes em todas as linguagens:\n",
        "\n",
        "* int: número pertencente ao conjunto dos números inteiros\n",
        "* float: número pertencente ao conjunto dos números reais\n",
        "* str: texto\n",
        "* bool: verdadeiro ou falso"
      ]
    },
    {
      "metadata": {
        "id": "HPghRJbg_yUG",
        "colab_type": "code",
        "colab": {}
      },
      "cell_type": "code",
      "source": [
        "var_str = \"Hello World\" #str\n",
        "var_bool = True #bool\n",
        "var_bool = False #bool\n",
        "var_float = 4.7 #float\n",
        "var_int = 47 #int"
      ],
      "execution_count": 0,
      "outputs": []
    },
    {
      "metadata": {
        "id": "kBDEA_JWORxT",
        "colab_type": "text"
      },
      "cell_type": "markdown",
      "source": [
        "Ok... as variáveis estão ai... e agora? Como sei o tipo dela?\n",
        "\n",
        "Para isso, vamos usar *type*. Veja só..."
      ]
    },
    {
      "metadata": {
        "id": "gDSsNQrAPtqS",
        "colab_type": "code",
        "colab": {
          "base_uri": "https://localhost:8080/",
          "height": 35
        },
        "outputId": "77aadc9f-5e51-415c-8620-68c6d07cbda4"
      },
      "cell_type": "code",
      "source": [
        "type(var_str)"
      ],
      "execution_count": 3,
      "outputs": [
        {
          "output_type": "execute_result",
          "data": {
            "text/plain": [
              "int"
            ]
          },
          "metadata": {
            "tags": []
          },
          "execution_count": 3
        }
      ]
    },
    {
      "metadata": {
        "id": "9VjuJWBrQMS5",
        "colab_type": "code",
        "colab": {
          "base_uri": "https://localhost:8080/",
          "height": 35
        },
        "outputId": "214828a7-f14f-44e6-941b-6e74a31e1f70"
      },
      "cell_type": "code",
      "source": [
        "type(var_bool)"
      ],
      "execution_count": 4,
      "outputs": [
        {
          "output_type": "execute_result",
          "data": {
            "text/plain": [
              "bool"
            ]
          },
          "metadata": {
            "tags": []
          },
          "execution_count": 4
        }
      ]
    },
    {
      "metadata": {
        "id": "P4GJmn80QOYW",
        "colab_type": "code",
        "colab": {
          "base_uri": "https://localhost:8080/",
          "height": 35
        },
        "outputId": "f720cef2-d090-4740-c868-35d79da9e71a"
      },
      "cell_type": "code",
      "source": [
        "type(var_bool)"
      ],
      "execution_count": 5,
      "outputs": [
        {
          "output_type": "execute_result",
          "data": {
            "text/plain": [
              "bool"
            ]
          },
          "metadata": {
            "tags": []
          },
          "execution_count": 5
        }
      ]
    },
    {
      "metadata": {
        "id": "9Tn40aX6QPxi",
        "colab_type": "code",
        "colab": {
          "base_uri": "https://localhost:8080/",
          "height": 35
        },
        "outputId": "1184d383-b1d8-488e-b170-f05df20d3cc1"
      },
      "cell_type": "code",
      "source": [
        "type(var_float)"
      ],
      "execution_count": 6,
      "outputs": [
        {
          "output_type": "execute_result",
          "data": {
            "text/plain": [
              "float"
            ]
          },
          "metadata": {
            "tags": []
          },
          "execution_count": 6
        }
      ]
    },
    {
      "metadata": {
        "id": "0OlPUndfROKB",
        "colab_type": "code",
        "colab": {
          "base_uri": "https://localhost:8080/",
          "height": 35
        },
        "outputId": "afc98ccc-9c60-43e8-bccd-5c23b38ebb23"
      },
      "cell_type": "code",
      "source": [
        "\n",
        "type(var_int)"
      ],
      "execution_count": 7,
      "outputs": [
        {
          "output_type": "execute_result",
          "data": {
            "text/plain": [
              "int"
            ]
          },
          "metadata": {
            "tags": []
          },
          "execution_count": 7
        }
      ]
    },
    {
      "metadata": {
        "id": "MUSEvIVERQ3s",
        "colab_type": "text"
      },
      "cell_type": "markdown",
      "source": [
        "Legal, não é?\n",
        "\n",
        "Vamos para outra variável!\n",
        "\n",
        "Essas é complicadinha de entender porque o colab não colabora. rsrsrs...\n",
        "Quando você alcança o valor máximo que int pode armazenar, a sua variável vira tipo *long*. Porém, essa regra não vale apenas para int. Vale também para float!\n",
        "\n",
        "Ou seja: alcançou o máximo que uma variável *int* ou *float* consegue armazenar, vira *long int* ou *long float*. Tem como mostrar no colab? Nope!\n",
        "\n",
        "Só guarda no ❤ essa informação porque é um tipo que faz parte da base de Python, porém não achei o limite de *int* ou *float* no colab para demonstrar.\n",
        "\n",
        "![alt text](https://images.vexels.com/media/users/3/143600/isolated/lists/1b2a1e1747f67ce87ea8af5fdf410d23-yao-ming-cara-meme.png)\n",
        "\n",
        "\n"
      ]
    },
    {
      "metadata": {
        "id": "Ue_lcV71T4As",
        "colab_type": "text"
      },
      "cell_type": "markdown",
      "source": [
        "## Complex\n",
        "\n",
        "Continuando nossa explicação com exemplos que podem ser demonstrados... vamos ao:\n",
        "\n",
        "* complex: variável para trabalhar com números complexos!\n",
        "\n",
        "Isso mesmo! Python tem esse tipo! ❤"
      ]
    },
    {
      "metadata": {
        "id": "RQutCIZ3UGes",
        "colab_type": "code",
        "colab": {
          "base_uri": "https://localhost:8080/",
          "height": 35
        },
        "outputId": "f400035a-e0a3-4081-a2fe-203d257be1d8"
      },
      "cell_type": "code",
      "source": [
        "var_complex = 3+5j\n",
        "type(var_complex)"
      ],
      "execution_count": 8,
      "outputs": [
        {
          "output_type": "execute_result",
          "data": {
            "text/plain": [
              "complex"
            ]
          },
          "metadata": {
            "tags": []
          },
          "execution_count": 8
        }
      ]
    },
    {
      "metadata": {
        "id": "L-ldhTdLUOjq",
        "colab_type": "text"
      },
      "cell_type": "markdown",
      "source": [
        "## Tuplas:\n",
        "\n",
        "* Tupla: conjunto de valores que você não pretende mudar de forma alguma! Rsrsrs...\n",
        "\n",
        "Tuplas não permitem adição, remoção, ordenamento, etc de seus elementos. \n",
        "\n",
        "OMG!\n",
        "\n",
        "Por quê esse tipo existe?\n",
        "\n",
        "![alt text](https://encrypted-tbn0.gstatic.com/images?q=tbn:ANd9GcSQJSjRmKrIRa_VVVEImeoZYquiaLnuwI0w25qmknbdWCbVhlJb)"
      ]
    },
    {
      "metadata": {
        "id": "hxhll0gYU8Rx",
        "colab_type": "code",
        "colab": {
          "base_uri": "https://localhost:8080/",
          "height": 35
        },
        "outputId": "36ac0903-4e85-4684-f88d-e6b4cab89f82"
      },
      "cell_type": "code",
      "source": [
        "var_tupla = ('text1', 47, 'texto2', 474.7)\n",
        "type(var_tupla)"
      ],
      "execution_count": 10,
      "outputs": [
        {
          "output_type": "execute_result",
          "data": {
            "text/plain": [
              "tuple"
            ]
          },
          "metadata": {
            "tags": []
          },
          "execution_count": 10
        }
      ]
    },
    {
      "metadata": {
        "id": "L2Fp1DBPVwZg",
        "colab_type": "text"
      },
      "cell_type": "markdown",
      "source": [
        "Existem muitas formas de explicar a razão de ser das tuplas, mas isso ficará de tarefa para vocês (olhem nos exercícios). Por hora vou adiantar o seguinte: se você quiser armazenar uma chave, você não pretende mudá-la depois de um tempo, ou perder o endereço de onde ela está. Tuplas são muito usadas como chaves.\n",
        "\n",
        "![alt text](https://encrypted-tbn0.gstatic.com/images?q=tbn:ANd9GcShcquVMepvJIUFECLTPZn-S4LX-wFrSu3ccd0UX7tEeZjOvJaN)"
      ]
    },
    {
      "metadata": {
        "id": "AZVDC8JOWizr",
        "colab_type": "text"
      },
      "cell_type": "markdown",
      "source": [
        "## Listas:\n",
        "\n",
        "* list: estrutura dinâmica que armazena diversos tipos de dados.\n",
        "\n",
        "Mais claro que isso só a luz do Sol! rsrsrs...\n",
        "Basicamente, armazena qualquer coisa! E é uma lista! Vejam o exemplo!"
      ]
    },
    {
      "metadata": {
        "id": "v1C6EydwV-uc",
        "colab_type": "code",
        "colab": {
          "base_uri": "https://localhost:8080/",
          "height": 35
        },
        "outputId": "e559d8cc-9078-42dd-9251-79ef71cfd5f9"
      },
      "cell_type": "code",
      "source": [
        "var_list = ['text1', 47, 'texto2', 474.7]\n",
        "type(var_list)"
      ],
      "execution_count": 11,
      "outputs": [
        {
          "output_type": "execute_result",
          "data": {
            "text/plain": [
              "list"
            ]
          },
          "metadata": {
            "tags": []
          },
          "execution_count": 11
        }
      ]
    },
    {
      "metadata": {
        "id": "YRwdx02NXA1a",
        "colab_type": "text"
      },
      "cell_type": "markdown",
      "source": [
        "Mas a tupla não armazena também?\n",
        "\n",
        "Bom, sim! Mas a lista permite adição e remoção de elementos. Além disso, \n",
        "\n",
        "\n",
        "\n",
        "> \"*É um equívoco pensar nas tuplas como listas constantes. As listas são destinadas a serem sequências homogêneas, enquanto que os Tuplas são estruturas de dados heterogêneas*\". (Phillip J. Eby, contribuidor de diversos projetos em Python e criador do *Setuptools*)\n",
        "\n",
        "Em outras palavras, apesar da estrutura ser similar (visualmente), são aplicadas para fins diferentes!\n",
        "\n",
        "![alt text](https://encrypted-tbn0.gstatic.com/images?q=tbn:ANd9GcRC2Z87zI3vwOs7fnU9SukY-6yLPYEF_BpyooPBwVSe3ptfHCiF)\n",
        "\n"
      ]
    },
    {
      "metadata": {
        "id": "ww0zxzsCXs3b",
        "colab_type": "text"
      },
      "cell_type": "markdown",
      "source": [
        "## Dicionário:\n",
        "\n",
        "* dict: um dicionário. Isso mesmo. di-ci-o.... deixa eu buscar aqui no dicionário como separa essa palavra.... sim: di-ci-o-ná-rio"
      ]
    },
    {
      "metadata": {
        "id": "XILNLloXVvgO",
        "colab_type": "code",
        "colab": {
          "base_uri": "https://localhost:8080/",
          "height": 35
        },
        "outputId": "eb8a8e70-d9a3-4770-bf29-09cc8f8d449d"
      },
      "cell_type": "code",
      "source": [
        "var_dict = {'key1': 47, 'key2': 474.7}\n",
        "type(var_dict)"
      ],
      "execution_count": 12,
      "outputs": [
        {
          "output_type": "execute_result",
          "data": {
            "text/plain": [
              "dict"
            ]
          },
          "metadata": {
            "tags": []
          },
          "execution_count": 12
        }
      ]
    },
    {
      "metadata": {
        "id": "cgEtEIf2YBwm",
        "colab_type": "text"
      },
      "cell_type": "markdown",
      "source": [
        "Ok... esse tipo também tem uma função! Ser um dicionário de armazenamento de coisas. Por exemplo, imagine o dicionário mesmo, de palavras. Você quer buscar o que significa **defenestrar**. Primeiro você vai direto nas palavras começadas em **d**. Então **d** é uma \"chave\" de acesso para todas as palavras começadas em **d**. Depois segue em ordem alfabética até descobrir que **defenestrar** significa:\n",
        "\n",
        "\n",
        "> Defenestração é o ato de atirar algo ou alguém por uma janela. Mais especificamente, vem do ato de jogar alguém ou de se jogar pela janela. Vem do latim *fenestra*.\n",
        "\n",
        "(não me perguntem como eu conheço essa palavra... mas garantam que a janela ao lado de vocês esteja fechada... )\n",
        "\n",
        "![alt text](https://encrypted-tbn0.gstatic.com/images?q=tbn:ANd9GcSCxevwNHz4yqxXIYCcBZnl7wpdVWTiq8mrx2gKoLx7xxNxPAECIw)\n"
      ]
    },
    {
      "metadata": {
        "id": "_ixIsx0cY9IC",
        "colab_type": "text"
      },
      "cell_type": "markdown",
      "source": [
        "## Set:\n",
        "* set: coleção de elementos não ordenados e não indexados.\n",
        "\n",
        "Na verdade, você nunca sabe o que vai retirar de um set quando pedir para lê-lo porque Python pode te devolver em uma ordem diferente da que você inseriu!\n",
        "\n",
        "Maravilha, não?"
      ]
    },
    {
      "metadata": {
        "id": "DrtZUaFgYAwP",
        "colab_type": "code",
        "colab": {
          "base_uri": "https://localhost:8080/",
          "height": 35
        },
        "outputId": "b6bf2f4a-106a-4e31-a6be-b7e271434536"
      },
      "cell_type": "code",
      "source": [
        "var_set = {'key1', 47, 'key2', 474.7}\n",
        "type(var_set)"
      ],
      "execution_count": 13,
      "outputs": [
        {
          "output_type": "execute_result",
          "data": {
            "text/plain": [
              "set"
            ]
          },
          "metadata": {
            "tags": []
          },
          "execution_count": 13
        }
      ]
    },
    {
      "metadata": {
        "id": "jUWAphU-A9q4",
        "colab_type": "text"
      },
      "cell_type": "markdown",
      "source": [
        "Então... vai dizer que existe uma razão de ser para *set* também?\n",
        "\n",
        "Imagine o seguinte: você tem uma vasilha para guardar biscoitos. Você inseriu diversos pacotes nessa vasilha em uma ordem qualquer. Faz diferença qual biscoito sairá quando você vai comer, ou você fica selecionando de acordo com a ordem de inserção?\n",
        "\n",
        "![alt text](https://encrypted-tbn0.gstatic.com/images?q=tbn:ANd9GcT2OdV6gsn_UMdaTUPk9Q6MuUfmLKbuPez-dZZRuUxcv2-rZjPmjA)\n",
        "\n",
        "Se não faz diferença, então você tem um *set* de biscoitos. E é exatamente para isso que serve! Quando não importa a ordem em que você quer remover os elementos, faça um set!\n",
        "\n",
        "Por exemplo, quando você vai em um evento e quer fazer um sorteio... joga os nomes das pessoas participantes do sorteio em um *set* e remova a quantidade que necessita para o sorteio! Nunca saberemos o que Python vai dar em retorno e só sobrará no set os nomes não removidos (ou seja, não sorteados)!\n",
        "\n",
        "*#ficaadica*"
      ]
    },
    {
      "metadata": {
        "id": "CVsneBD2_A_2",
        "colab_type": "code",
        "colab": {}
      },
      "cell_type": "code",
      "source": [
        ""
      ],
      "execution_count": 0,
      "outputs": []
    },
    {
      "metadata": {
        "id": "swBZqAi-aaSL",
        "colab_type": "text"
      },
      "cell_type": "markdown",
      "source": [
        "# Mutabilidade das variáveis\n",
        "\n",
        "Infelizmente não estamos tratando de **x-men**, mas sim de variáveis ainda. Python tem uma caracterísitca interessante sobre as variáveis:\n",
        "* algumas são mutáveis\n",
        "* algumas são imutáveis\n",
        "\n",
        "Como assim?"
      ]
    },
    {
      "metadata": {
        "id": "khGPaWoiax8v",
        "colab_type": "code",
        "colab": {
          "base_uri": "https://localhost:8080/",
          "height": 35
        },
        "outputId": "25e63880-fafd-48db-a3e5-9c7f58e32b11"
      },
      "cell_type": "code",
      "source": [
        "x = 42\n",
        "type(x)"
      ],
      "execution_count": 14,
      "outputs": [
        {
          "output_type": "execute_result",
          "data": {
            "text/plain": [
              "int"
            ]
          },
          "metadata": {
            "tags": []
          },
          "execution_count": 14
        }
      ]
    },
    {
      "metadata": {
        "id": "AUNtUbwta64A",
        "colab_type": "code",
        "colab": {
          "base_uri": "https://localhost:8080/",
          "height": 35
        },
        "outputId": "e6ed2d54-d9f4-4de2-f65f-3c81cf4c8ee3"
      },
      "cell_type": "code",
      "source": [
        "id(x)"
      ],
      "execution_count": 15,
      "outputs": [
        {
          "output_type": "execute_result",
          "data": {
            "text/plain": [
              "10911712"
            ]
          },
          "metadata": {
            "tags": []
          },
          "execution_count": 15
        }
      ]
    },
    {
      "metadata": {
        "id": "YZfGvOxha-Vg",
        "colab_type": "code",
        "colab": {
          "base_uri": "https://localhost:8080/",
          "height": 35
        },
        "outputId": "6d591ddb-0b6a-4340-bc92-744607c0b525"
      },
      "cell_type": "code",
      "source": [
        "x = x + 1\n",
        "type(x)"
      ],
      "execution_count": 16,
      "outputs": [
        {
          "output_type": "execute_result",
          "data": {
            "text/plain": [
              "int"
            ]
          },
          "metadata": {
            "tags": []
          },
          "execution_count": 16
        }
      ]
    },
    {
      "metadata": {
        "id": "ZckxtBLObByT",
        "colab_type": "code",
        "colab": {
          "base_uri": "https://localhost:8080/",
          "height": 35
        },
        "outputId": "ed7177b1-9e2c-4f2f-b490-0f4a98c6d0b2"
      },
      "cell_type": "code",
      "source": [
        "id(x)"
      ],
      "execution_count": 17,
      "outputs": [
        {
          "output_type": "execute_result",
          "data": {
            "text/plain": [
              "10911744"
            ]
          },
          "metadata": {
            "tags": []
          },
          "execution_count": 17
        }
      ]
    },
    {
      "metadata": {
        "id": "Z7NzcFubaeGx",
        "colab_type": "text"
      },
      "cell_type": "markdown",
      "source": [
        "O trecho acima mostra um pouco como funciona a **imutabilidade** em Python. Uma vez que você declara um valor para uma variável **imutável** ela terá até o seu descarte esse valor. Se você \"adicionar\", \"subtrair\" ou realizar qualquer tipo de modificação de conteúdo, a variável não irá trocar o conteúdo, e sim uma nova variável será instanciada em seu lugar.\n",
        "\n",
        "![alt text](https://encrypted-tbn0.gstatic.com/images?q=tbn:ANd9GcQF7EGyYim1xvPBrLZ6YKZsBHkzFMKbvRQ4eBTBql3RQIb1oVdw)"
      ]
    },
    {
      "metadata": {
        "id": "oz8k6L4Vb-oo",
        "colab_type": "code",
        "colab": {
          "base_uri": "https://localhost:8080/",
          "height": 35
        },
        "outputId": "2e5fd197-bab2-4885-fd5b-caa0cbce96ad"
      },
      "cell_type": "code",
      "source": [
        "#já temos o x, vamos add um y de var\n",
        "y = x\n",
        "id(y)"
      ],
      "execution_count": 18,
      "outputs": [
        {
          "output_type": "execute_result",
          "data": {
            "text/plain": [
              "10911744"
            ]
          },
          "metadata": {
            "tags": []
          },
          "execution_count": 18
        }
      ]
    },
    {
      "metadata": {
        "id": "_Ec8HANUcIKx",
        "colab_type": "code",
        "colab": {
          "base_uri": "https://localhost:8080/",
          "height": 35
        },
        "outputId": "183b3919-0c83-46af-b0fe-935ff606ab3e"
      },
      "cell_type": "code",
      "source": [
        "y = y + 1\n",
        "id(y)"
      ],
      "execution_count": 19,
      "outputs": [
        {
          "output_type": "execute_result",
          "data": {
            "text/plain": [
              "10911776"
            ]
          },
          "metadata": {
            "tags": []
          },
          "execution_count": 19
        }
      ]
    },
    {
      "metadata": {
        "id": "iJ0PT0NLcLP8",
        "colab_type": "code",
        "colab": {
          "base_uri": "https://localhost:8080/",
          "height": 35
        },
        "outputId": "20c76e99-1f31-45a2-d878-b99289fc9572"
      },
      "cell_type": "code",
      "source": [
        "id(x)"
      ],
      "execution_count": 20,
      "outputs": [
        {
          "output_type": "execute_result",
          "data": {
            "text/plain": [
              "10911744"
            ]
          },
          "metadata": {
            "tags": []
          },
          "execution_count": 20
        }
      ]
    },
    {
      "metadata": {
        "id": "xRk_9qNqcNEI",
        "colab_type": "text"
      },
      "cell_type": "markdown",
      "source": [
        "Não ficou claro ainda, mas veja o caso das variáveis **mutáveis**:"
      ]
    },
    {
      "metadata": {
        "id": "3zfDQqDicSWW",
        "colab_type": "code",
        "colab": {
          "base_uri": "https://localhost:8080/",
          "height": 35
        },
        "outputId": "d859b618-6b56-40f2-8901-adc8d32f3aff"
      },
      "cell_type": "code",
      "source": [
        "x = [42, 43]\n",
        "type(x)"
      ],
      "execution_count": 21,
      "outputs": [
        {
          "output_type": "execute_result",
          "data": {
            "text/plain": [
              "list"
            ]
          },
          "metadata": {
            "tags": []
          },
          "execution_count": 21
        }
      ]
    },
    {
      "metadata": {
        "id": "AvayFYMQcYAw",
        "colab_type": "code",
        "colab": {
          "base_uri": "https://localhost:8080/",
          "height": 35
        },
        "outputId": "455db80a-4155-4e23-cd49-26313634e0d5"
      },
      "cell_type": "code",
      "source": [
        "y = x\n",
        "type(y)"
      ],
      "execution_count": 23,
      "outputs": [
        {
          "output_type": "execute_result",
          "data": {
            "text/plain": [
              "list"
            ]
          },
          "metadata": {
            "tags": []
          },
          "execution_count": 23
        }
      ]
    },
    {
      "metadata": {
        "id": "-cNdajdhca5S",
        "colab_type": "code",
        "colab": {
          "base_uri": "https://localhost:8080/",
          "height": 35
        },
        "outputId": "2b050520-cc2a-4367-d12c-bae7cc7f5d0a"
      },
      "cell_type": "code",
      "source": [
        "id(y) == id(x)"
      ],
      "execution_count": 25,
      "outputs": [
        {
          "output_type": "execute_result",
          "data": {
            "text/plain": [
              "True"
            ]
          },
          "metadata": {
            "tags": []
          },
          "execution_count": 25
        }
      ]
    },
    {
      "metadata": {
        "id": "6pPyZPS3cW0J",
        "colab_type": "code",
        "colab": {
          "base_uri": "https://localhost:8080/",
          "height": 35
        },
        "outputId": "6cc18936-1c50-4548-c3b2-35d9bac31855"
      },
      "cell_type": "code",
      "source": [
        "y.append(44)\n",
        "y"
      ],
      "execution_count": 26,
      "outputs": [
        {
          "output_type": "execute_result",
          "data": {
            "text/plain": [
              "[42, 43, 44]"
            ]
          },
          "metadata": {
            "tags": []
          },
          "execution_count": 26
        }
      ]
    },
    {
      "metadata": {
        "id": "ZWLmjWijck4A",
        "colab_type": "code",
        "colab": {
          "base_uri": "https://localhost:8080/",
          "height": 35
        },
        "outputId": "0136ab84-2e89-41d8-e751-65a6ded62c1a"
      },
      "cell_type": "code",
      "source": [
        "x"
      ],
      "execution_count": 27,
      "outputs": [
        {
          "output_type": "execute_result",
          "data": {
            "text/plain": [
              "[42, 43, 44]"
            ]
          },
          "metadata": {
            "tags": []
          },
          "execution_count": 27
        }
      ]
    },
    {
      "metadata": {
        "id": "738i-zH4cmNi",
        "colab_type": "text"
      },
      "cell_type": "markdown",
      "source": [
        "![alt text](https://encrypted-tbn0.gstatic.com/images?q=tbn:ANd9GcSdUG7DnHJLGGLaMAy9i7yjKjxAa-GsrG8piU9beqwFitmwe7Fn)\n",
        "\n",
        "Sim, eu sei... você não alterou a variável x, mas ela foi alterada!\n",
        "\n",
        "Quando você copia 2 variáveis em Python, você passa a apontar as 2 para o mesmo endereço de memória. Em outras palavras, é como se você tivesse um saco de pão com uma quantidade qualquer de pães. Quanto mais pessoas você oferece um saco de pão, significa que mais pessoas passam a ser donas **do mesmo saco de pão**, em vez de **sacos de pão similares (mesma quantidade de pães)**.\n",
        "\n"
      ]
    },
    {
      "metadata": {
        "id": "olNQB38Qdg_s",
        "colab_type": "text"
      },
      "cell_type": "markdown",
      "source": [
        "## Mutáveis vs Imutáveis\n",
        "\n",
        "Os seguintes tipos de variáveis em Python são **imutáveis**:\n",
        "* int e long int\n",
        "* float e long float\n",
        "* str\n",
        "* complex\n",
        "* tuple\n",
        "\n",
        "Os seguintes tipos de variáveis são **mutáveis**:\n",
        "* list\n",
        "* dict\n",
        "* set\n",
        "* file\n"
      ]
    },
    {
      "metadata": {
        "id": "CAGFPhBYeBxy",
        "colab_type": "text"
      },
      "cell_type": "markdown",
      "source": [
        "## Vantagens da mutabilidade em Python\n",
        "\n",
        "* **Economia de memória**: ao ter variáveis imutáveis, é possível instanciá-las com um tamanho específico para comportar o valor necessário e esse valor não irá mudar até o descarte da variável!\n",
        "* **Reutilização:** duas variáveis podem apontar para o mesmo endereço!"
      ]
    },
    {
      "metadata": {
        "id": "f0f7xGk0sJDq",
        "colab_type": "text"
      },
      "cell_type": "markdown",
      "source": [
        "# Exercícios!\n",
        "\n",
        "1- Descreva pelo menos 5 situações em que devem-se usar variáveis *imutabilidade* em vez das *mutaveis* e o motivo.\n",
        "\n",
        "2- Quais desses tipos de variáveis podem ser instaciadas vazias?\n",
        "\n",
        "3- Se eu ler um texto tipo json, que tipo de variável ele vira? Qual a vantagem disso?"
      ]
    }
  ]
}